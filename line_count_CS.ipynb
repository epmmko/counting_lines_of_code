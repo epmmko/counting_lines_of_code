{
 "cells": [
  {
   "cell_type": "code",
   "execution_count": 1,
   "metadata": {},
   "outputs": [],
   "source": [
    "import os\n",
    "file_names = os.listdir(\".\\CS\")\n",
    "file_names = [\".\\\\CS\\\\\" + i for i in file_names]"
   ]
  },
  {
   "cell_type": "code",
   "execution_count": 3,
   "metadata": {},
   "outputs": [
    {
     "data": {
      "text/plain": [
       "['.\\\\CS\\\\AdditionalPicture.cs',\n",
       " '.\\\\CS\\\\BigEquation.cs',\n",
       " '.\\\\CS\\\\BigEquationForm.cs',\n",
       " '.\\\\CS\\\\BigEquationInstruction.cs',\n",
       " '.\\\\CS\\\\Deposition1P.cs',\n",
       " '.\\\\CS\\\\Deposition1POutput.cs',\n",
       " '.\\\\CS\\\\EquationBasisInstruction.cs',\n",
       " '.\\\\CS\\\\Form1.cs',\n",
       " '.\\\\CS\\\\hydrodynamics_single_phase_liquid.cs',\n",
       " '.\\\\CS\\\\input_form.cs',\n",
       " '.\\\\CS\\\\input_instruction.cs',\n",
       " '.\\\\CS\\\\LMOutput.cs',\n",
       " '.\\\\CS\\\\OnePointFlowPatternResult.cs',\n",
       " '.\\\\CS\\\\ShowResultsForm.cs',\n",
       " '.\\\\CS\\\\TrackBarPictures.cs']"
      ]
     },
     "execution_count": 3,
     "metadata": {},
     "output_type": "execute_result"
    }
   ],
   "source": [
    "file_names"
   ]
  },
  {
   "cell_type": "code",
   "execution_count": 4,
   "metadata": {},
   "outputs": [
    {
     "data": {
      "text/plain": [
       "'.\\\\CS\\\\AdditionalPicture.cs'"
      ]
     },
     "execution_count": 4,
     "metadata": {},
     "output_type": "execute_result"
    }
   ],
   "source": [
    "file_names[0]"
   ]
  },
  {
   "cell_type": "code",
   "execution_count": 5,
   "metadata": {},
   "outputs": [],
   "source": [
    "count_vec = []\n",
    "for file_name in file_names:\n",
    "    thefilepath = file_name\n",
    "    count = 0\n",
    "    thefile = open(thefilepath)\n",
    "    while 1:\n",
    "        buffer = thefile.read(8192*1024)\n",
    "        if not buffer: break\n",
    "        count += buffer.count('\\n')\n",
    "    thefile.close(  )\n",
    "    count_vec.append(count)"
   ]
  },
  {
   "cell_type": "code",
   "execution_count": 6,
   "metadata": {},
   "outputs": [
    {
     "data": {
      "text/plain": [
       "15"
      ]
     },
     "execution_count": 6,
     "metadata": {},
     "output_type": "execute_result"
    }
   ],
   "source": [
    "len(count_vec)"
   ]
  },
  {
   "cell_type": "code",
   "execution_count": 7,
   "metadata": {},
   "outputs": [
    {
     "data": {
      "text/plain": [
       "3862"
      ]
     },
     "execution_count": 7,
     "metadata": {},
     "output_type": "execute_result"
    }
   ],
   "source": [
    "sum(count_vec) + len(count_vec)"
   ]
  },
  {
   "cell_type": "code",
   "execution_count": null,
   "metadata": {},
   "outputs": [],
   "source": []
  }
 ],
 "metadata": {
  "kernelspec": {
   "display_name": "Python 3",
   "language": "python",
   "name": "python3"
  },
  "language_info": {
   "codemirror_mode": {
    "name": "ipython",
    "version": 3
   },
   "file_extension": ".py",
   "mimetype": "text/x-python",
   "name": "python",
   "nbconvert_exporter": "python",
   "pygments_lexer": "ipython3",
   "version": "3.6.5"
  }
 },
 "nbformat": 4,
 "nbformat_minor": 2
}
