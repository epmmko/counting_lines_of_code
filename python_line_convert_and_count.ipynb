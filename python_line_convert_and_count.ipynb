{
 "cells": [
  {
   "cell_type": "code",
   "execution_count": 1,
   "metadata": {},
   "outputs": [
    {
     "name": "stdout",
     "output_type": "stream",
     "text": [
      ".\\Ipynb\\L02C01_BasicPython.ipynb\n",
      ".\\Ipynb\\L02C01_BasicPython.py\n",
      ".\\Ipynb\\L02C02_deepcopy.ipynb\n",
      ".\\Ipynb\\L02C02_deepcopy.py\n",
      ".\\Ipynb\\L03C01_DataVis.ipynb\n",
      ".\\Ipynb\\L03C01_DataVis.py\n",
      ".\\Ipynb\\L04_RootFinding.ipynb\n",
      ".\\Ipynb\\L04_RootFinding.py\n",
      ".\\Ipynb\\L05_SysLin.ipynb\n",
      ".\\Ipynb\\L05_SysLin.py\n",
      ".\\Ipynb\\L06_SysNon.ipynb\n",
      ".\\Ipynb\\L06_SysNon.py\n",
      ".\\Ipynb\\L07_Regression.ipynb\n",
      ".\\Ipynb\\L07_Regression.py\n",
      ".\\Ipynb\\L08_IntPol.ipynb\n",
      ".\\Ipynb\\L08_IntPol.py\n",
      ".\\Ipynb\\L09_Integration.ipynb\n",
      ".\\Ipynb\\L09_Integration.py\n",
      ".\\Ipynb\\L10_ODE.ipynb\n",
      ".\\Ipynb\\L10_ODE.py\n",
      ".\\Ipynb\\L11_PDE.ipynb\n",
      ".\\Ipynb\\L11_PDE.py\n"
     ]
    }
   ],
   "source": [
    "import os\n",
    "import subprocess\n",
    "file_names = os.listdir(\".\\Ipynb\")\n",
    "file_names = [\".\\\\Ipynb\\\\\" + i for i in file_names]\n",
    "for file_name in file_names:\n",
    "    print(file_name)\n",
    "    subprocess.call([\"jupyter\", \"nbconvert\", file_name, \"--to\", \"python\"])"
   ]
  },
  {
   "cell_type": "markdown",
   "metadata": {},
   "source": [
    "Once the .py is created copy them to another directory"
   ]
  },
  {
   "cell_type": "code",
   "execution_count": 2,
   "metadata": {},
   "outputs": [],
   "source": [
    "try:\n",
    "    os.makedirs(\"python\")\n",
    "except:\n",
    "    None"
   ]
  },
  {
   "cell_type": "markdown",
   "metadata": {},
   "source": [
    "Need shell utility to do the copy"
   ]
  },
  {
   "cell_type": "code",
   "execution_count": 3,
   "metadata": {},
   "outputs": [],
   "source": [
    "import shutil"
   ]
  },
  {
   "cell_type": "code",
   "execution_count": 4,
   "metadata": {},
   "outputs": [],
   "source": [
    "#get the list of .py in .\\Ipynb directory\n",
    "files_to_copy = os.listdir(\".\\\\Ipynb\")\n",
    "py_files_to_copy = [name for name in files_to_copy if name[-3:] == \".py\"]"
   ]
  },
  {
   "cell_type": "markdown",
   "metadata": {},
   "source": [
    "Copy .py file to the new directory"
   ]
  },
  {
   "cell_type": "code",
   "execution_count": 5,
   "metadata": {},
   "outputs": [],
   "source": [
    "for file in py_files_to_copy:\n",
    "    shutil.copy(\".\\\\Ipynb\\\\\" + file, \".\\python\")"
   ]
  },
  {
   "cell_type": "markdown",
   "metadata": {},
   "source": [
    "Do the counting for the .py file in the new directory"
   ]
  },
  {
   "cell_type": "code",
   "execution_count": 6,
   "metadata": {},
   "outputs": [
    {
     "name": "stdout",
     "output_type": "stream",
     "text": [
      "638\n",
      "53\n",
      "289\n",
      "533\n",
      "1406\n",
      "319\n",
      "1152\n",
      "527\n",
      "501\n",
      "1341\n",
      "1452\n"
     ]
    }
   ],
   "source": [
    "file_names = [\".\\\\python\\\\\" + i for i in py_files_to_copy]\n",
    "python_lines = []\n",
    "for filename in file_names:\n",
    "    count = 0\n",
    "    thefile = open(filename, encoding = \"utf-8\")\n",
    "    while 1:\n",
    "        buffer = thefile.read(8192*1024)\n",
    "        if not buffer: break\n",
    "        buffer = buffer.strip()\n",
    "        lines = buffer.splitlines()\n",
    "        for line in lines:\n",
    "            if line[0:9] == \"# coding:\" or line[0:5] == \"# In[\" or line == '':\n",
    "                None\n",
    "            else:\n",
    "                count += 1\n",
    "        print(count)\n",
    "        python_lines.append(count)\n",
    "    thefile.close(  )"
   ]
  },
  {
   "cell_type": "code",
   "execution_count": 7,
   "metadata": {},
   "outputs": [
    {
     "data": {
      "text/plain": [
       "8211"
      ]
     },
     "execution_count": 7,
     "metadata": {},
     "output_type": "execute_result"
    }
   ],
   "source": [
    "sum(python_lines)"
   ]
  },
  {
   "cell_type": "code",
   "execution_count": null,
   "metadata": {},
   "outputs": [],
   "source": []
  }
 ],
 "metadata": {
  "kernelspec": {
   "display_name": "Python 3",
   "language": "python",
   "name": "python3"
  },
  "language_info": {
   "codemirror_mode": {
    "name": "ipython",
    "version": 3
   },
   "file_extension": ".py",
   "mimetype": "text/x-python",
   "name": "python",
   "nbconvert_exporter": "python",
   "pygments_lexer": "ipython3",
   "version": "3.6.5"
  }
 },
 "nbformat": 4,
 "nbformat_minor": 2
}
